{
  "nbformat": 4,
  "nbformat_minor": 0,
  "metadata": {
    "colab": {
      "provenance": []
    },
    "kernelspec": {
      "name": "python3",
      "display_name": "Python 3"
    },
    "language_info": {
      "name": "python"
    }
  },
  "cells": [
    {
      "cell_type": "markdown",
      "source": [],
      "metadata": {
        "id": "huaVW9WqKwSf"
      }
    },
    {
      "cell_type": "markdown",
      "source": [],
      "metadata": {
        "id": "KYysKYk5GAnu"
      }
    },
    {
      "cell_type": "code",
      "source": [
        "#1\n",
        "def leftShift(List,k):\n",
        "    newList=[]\n",
        "    for i in range(k):\n",
        "     newList.append(List[i+k])\n",
        "\n",
        "    for i in range(k):\n",
        "      newList.append(0)\n",
        "\n",
        "\n",
        "    return newList\n",
        "\n",
        "List1=[10,20,30,40,50,60]\n",
        "L1=leftShift(List1,3)\n",
        "print(L1)"
      ],
      "metadata": {
        "colab": {
          "base_uri": "https://localhost:8080/"
        },
        "id": "mxf5aZeNJCF-",
        "outputId": "dfebc855-7274-47fd-b9c6-6e7ee93b49ff"
      },
      "execution_count": 1,
      "outputs": [
        {
          "output_type": "stream",
          "name": "stdout",
          "text": [
            "[40, 50, 60, 0, 0, 0]\n"
          ]
        }
      ]
    },
    {
      "cell_type": "markdown",
      "source": [],
      "metadata": {
        "id": "afiTDmxfK3Th"
      }
    },
    {
      "cell_type": "code",
      "source": [
        "#2\n",
        "def rotateLeft(List,k):\n",
        "    newList=[]\n",
        "    for i in range(k):\n",
        "     newList.append(List[i+k])\n",
        "\n",
        "    for i in range(k):\n",
        "      newList.append(List[i])\n",
        "\n",
        "\n",
        "    return newList\n",
        "\n",
        "List1=[10,20,30,40,50,60]\n",
        "L1=rotateLeft(List1,3)\n",
        "print(L1)"
      ],
      "metadata": {
        "colab": {
          "base_uri": "https://localhost:8080/"
        },
        "id": "ToctuXWJK2Pu",
        "outputId": "a26334d3-e007-4b37-f311-f2ae357cd7a8"
      },
      "execution_count": 2,
      "outputs": [
        {
          "output_type": "stream",
          "name": "stdout",
          "text": [
            "[40, 50, 60, 10, 20, 30]\n"
          ]
        }
      ]
    },
    {
      "cell_type": "code",
      "source": [
        "#3\n",
        "def remove(List,size,idx):\n",
        "  newList=[]\n",
        "\n",
        "  for i in range(size):\n",
        "    if i!=idx: newList.append(List[i])\n",
        "  newList.append(0)\n",
        "  return newList\n",
        "\n",
        "List1=[10,20,30,40,50,60]\n",
        "L1=remove(List1,len(List1),3)\n",
        "print(L1)\n"
      ],
      "metadata": {
        "colab": {
          "base_uri": "https://localhost:8080/"
        },
        "id": "pDYytrqrum5a",
        "outputId": "9843c2ef-c2a7-43d6-80a6-7062c2ffb497"
      },
      "execution_count": 3,
      "outputs": [
        {
          "output_type": "stream",
          "name": "stdout",
          "text": [
            "[10, 20, 30, 50, 60, 0]\n"
          ]
        }
      ]
    },
    {
      "cell_type": "code",
      "source": [
        "#4\n",
        "def removeAll(List,size,element):\n",
        " newList=List\n",
        " for i in range(size):\n",
        "  if newList[i]==element:\n",
        "   newList.pop(i)\n",
        "   newList.append(0)\n",
        " return newList\n",
        "List1=[10,2,30,2,50,2,0,2,0]\n",
        "L1=removeAll(List1,len(List1),2)\n",
        "print(L1)"
      ],
      "metadata": {
        "colab": {
          "base_uri": "https://localhost:8080/"
        },
        "id": "mIZTUPVexfgs",
        "outputId": "553bb923-c796-44be-fc34-0bff7ab211a2"
      },
      "execution_count": 24,
      "outputs": [
        {
          "output_type": "stream",
          "name": "stdout",
          "text": [
            "[10, 30, 50, 0, 0, 0, 0, 0, 0]\n"
          ]
        }
      ]
    }
  ]
}